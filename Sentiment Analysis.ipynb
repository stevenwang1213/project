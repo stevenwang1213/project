{
 "cells": [
  {
   "cell_type": "code",
   "execution_count": 1,
   "id": "1be6c182-3e89-474c-bfc1-08a67f7c1a1a",
   "metadata": {},
   "outputs": [],
   "source": [
    "import PyPDF2\n",
    "import nltk\n",
    "import pandas as pd\n",
    "from nltk import word_tokenize"
   ]
  },
  {
   "cell_type": "code",
   "execution_count": 2,
   "id": "df42e1c4-8cd0-44a7-82bb-8c098ac1b56f",
   "metadata": {},
   "outputs": [],
   "source": [
    "fed_20210924 = PyPDF2.PdfReader('Fed/20210924.pdf')\n",
    "fed_20211109 = PyPDF2.PdfReader('Fed/20211109.pdf')\n",
    "fed_20211129 = PyPDF2.PdfReader('Fed/20211129.pdf')\n",
    "fed_20220321 = PyPDF2.PdfReader('Fed/20220321.pdf')\n",
    "fed_20220524 = PyPDF2.PdfReader('Fed/20220524.pdf')\n",
    "fed_20220617 = PyPDF2.PdfReader('Fed/20220617.pdf')\n",
    "fed_20220826 = PyPDF2.PdfReader('Fed/20220826.pdf')\n",
    "fed_20220928 = PyPDF2.PdfReader('Fed/20220928.pdf')\n",
    "fed_20221130 = PyPDF2.PdfReader('Fed/20221130.pdf')\n",
    "fed_20230110 = PyPDF2.PdfReader('Fed/20230110.pdf')"
   ]
  },
  {
   "cell_type": "code",
   "execution_count": 3,
   "id": "1b2a0128-2922-4159-89f4-b724273d7d91",
   "metadata": {},
   "outputs": [
    {
     "name": "stdout",
     "output_type": "stream",
     "text": [
      "{'20210924': 8, '20211109': 26, '20211129': 21, '20220321': 2, '20220524': 28, '20220617': 9, '20220826': 18, '20220928': 12, '20221130': 28, '20230110': 1}\n"
     ]
    }
   ],
   "source": [
    "\n",
    "# Load sentiment words from files\n",
    "def load_sentiment_words(file):\n",
    "    with open(file, 'r') as f:\n",
    "        words = [line.strip() for line in f.readlines()]\n",
    "    return words\n",
    "\n",
    "positive_words = load_sentiment_words('Sentiment/ML_positive_unigram.txt')\n",
    "negative_words = load_sentiment_words('Sentiment/ML_negative_unigram.txt')\n",
    "\n",
    "# Calculate sentiment score using custom sentiment word lists\n",
    "def custom_sentiment_score(text):\n",
    "    tokenized_text = word_tokenize(text)\n",
    "    positive_count = sum([1 for word in tokenized_text if word.lower() in positive_words])\n",
    "    negative_count = sum([1 for word in tokenized_text if word.lower() in negative_words])\n",
    "    return positive_count - negative_count\n",
    "\n",
    "# Read PDF files and calculate sentiment scores\n",
    "announcement_files = {\n",
    "    '20210924': 'Fed/20210924.pdf',\n",
    "    '20211109': 'Fed/20211109.pdf',\n",
    "    '20211129': 'Fed/20211129.pdf',\n",
    "    '20220321': 'Fed/20220321.pdf',\n",
    "    '20220524': 'Fed/20220524.pdf',\n",
    "    '20220617': 'Fed/20220617.pdf',\n",
    "    '20220826': 'Fed/20220826.pdf',\n",
    "    '20220928': 'Fed/20220928.pdf',\n",
    "    '20221130': 'Fed/20221130.pdf',\n",
    "    '20230110': 'Fed/20230110.pdf',\n",
    "}\n",
    "\n",
    "sentiment_scores = {}\n",
    "\n",
    "for date, file in announcement_files.items():\n",
    "    with open(file, 'rb') as f:\n",
    "        pdf_reader = PyPDF2.PdfReader(f)\n",
    "        text = ''\n",
    "        for page in pdf_reader.pages:\n",
    "            text += page.extract_text()\n",
    "        sentiment_scores[date] = custom_sentiment_score(text)\n",
    "\n",
    "print(sentiment_scores)"
   ]
  },
  {
   "cell_type": "code",
   "execution_count": 4,
   "id": "9ce103c4-e7c6-4199-88b3-8fb28bb1e07d",
   "metadata": {
    "tags": []
   },
   "outputs": [
    {
     "name": "stdout",
     "output_type": "stream",
     "text": [
      "        Date  SentimentScore\n",
      "0 2021-09-24               8\n",
      "1 2021-11-09              26\n",
      "2 2021-11-29              21\n",
      "3 2022-03-21               2\n",
      "4 2022-05-24              28\n",
      "5 2022-06-17               9\n",
      "6 2022-08-26              18\n",
      "7 2022-09-28              12\n",
      "8 2022-11-30              28\n",
      "9 2023-01-10               1\n"
     ]
    }
   ],
   "source": [
    "# Convert sentiment_scores dictionary to DataFrame\n",
    "sentiment_score_df = pd.DataFrame.from_dict(sentiment_scores, orient='index', columns=['SentimentScore'])\n",
    "\n",
    "# Reset the index and rename the index column to 'Date'\n",
    "sentiment_score_df = sentiment_score_df.reset_index().rename(columns={'index': 'Date'})\n",
    "\n",
    "# Convert the 'Date' column to datetime\n",
    "sentiment_score_df['Date'] = pd.to_datetime(sentiment_score_df['Date'])\n",
    "\n",
    "# Print the resulting DataFrame\n",
    "print(sentiment_score_df)\n"
   ]
  },
  {
   "cell_type": "code",
   "execution_count": 5,
   "id": "2b54b673-c6cc-4b17-9f65-acdb06c9ba75",
   "metadata": {
    "tags": []
   },
   "outputs": [],
   "source": [
    "sentiment_score_df.to_csv('analysis csv file/sentiment_score_df.csv', index=False)"
   ]
  }
 ],
 "metadata": {
  "kernelspec": {
   "display_name": "Python 3 (ipykernel)",
   "language": "python",
   "name": "python3"
  },
  "language_info": {
   "codemirror_mode": {
    "name": "ipython",
    "version": 3
   },
   "file_extension": ".py",
   "mimetype": "text/x-python",
   "name": "python",
   "nbconvert_exporter": "python",
   "pygments_lexer": "ipython3",
   "version": "3.9.13"
  }
 },
 "nbformat": 4,
 "nbformat_minor": 5
}
